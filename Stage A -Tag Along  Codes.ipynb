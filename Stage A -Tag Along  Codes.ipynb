{
 "cells": [
  {
   "cell_type": "markdown",
   "id": "e903bdd6",
   "metadata": {},
   "source": [
    "# STAGE A TAG-ALONG CODES"
   ]
  },
  {
   "cell_type": "markdown",
   "id": "f4ed1157",
   "metadata": {},
   "source": [
    "INTRODUCTION TO PYTHON FOR MACHINE LEARNING TAG ALONG CODES"
   ]
  },
  {
   "cell_type": "markdown",
   "id": "6cebe809",
   "metadata": {},
   "source": [
    "Answers to the second part of the Quiz using the African food production dataset provided by the FAO."
   ]
  },
  {
   "cell_type": "code",
   "execution_count": 5,
   "id": "fec06722",
   "metadata": {},
   "outputs": [],
   "source": [
    "import pandas as pd\n",
    "url=\"https://github.com/HamoyeHQ/HDSC-Introduction-to-Python-for-machine-learning/files/7768140/FoodBalanceSheets_E_Africa_NOFLAG.csv\"\n",
    "# f_a is stands for Food Production\n",
    "f_a=pd.read_csv(url, encoding=\"latin1\")"
   ]
  },
  {
   "cell_type": "code",
   "execution_count": null,
   "id": "69b6cf5c",
   "metadata": {},
   "outputs": [],
   "source": []
  },
  {
   "cell_type": "markdown",
   "id": "c6b4430d",
   "metadata": {},
   "source": [
    "# QUESTION 11"
   ]
  },
  {
   "cell_type": "markdown",
   "id": "cfff6ce8",
   "metadata": {},
   "source": [
    "# 5. What is the total sum of Wine produced in 2015 and 2018 respectively?"
   ]
  },
  {
   "cell_type": "code",
   "execution_count": 6,
   "id": "14086873",
   "metadata": {},
   "outputs": [
    {
     "name": "stdout",
     "output_type": "stream",
     "text": [
      "4251.81\n",
      "4039.32\n"
     ]
    }
   ],
   "source": [
    "f_a.groupby('Item').sum()\n",
    "A=pd.DataFrame(f_a.groupby('Item').sum())\n",
    "print(A.at['Wine','Y2015'])\n",
    "print(A.at['Wine','Y2018'])"
   ]
  },
  {
   "cell_type": "markdown",
   "id": "7f93d2ec",
   "metadata": {},
   "source": [
    "# 10. What is the mean and standard deviation across the whole dataset for the year 2017 to 2 decimal places?"
   ]
  },
  {
   "cell_type": "code",
   "execution_count": 27,
   "id": "4e54fa8b",
   "metadata": {},
   "outputs": [
    {
     "name": "stdout",
     "output_type": "stream",
     "text": [
      "140.918\n",
      "1671.862\n"
     ]
    }
   ],
   "source": [
    "f_a.describe()\n",
    "B=pd.DataFrame(f_a.describe())\n",
    "decimal_format = \"{:.3f}\".format(B.at['mean','Y2017'])\n",
    "decimal_format1 = \"{:.3f}\".format(B.at['std','Y2017'])\n",
    "print(decimal_format)\n",
    "print(decimal_format1)\n"
   ]
  },
  {
   "cell_type": "markdown",
   "id": "f0016137",
   "metadata": {},
   "source": [
    "# 2. What is the total number and percentage of missing data in 2014 to 3 decimal places?"
   ]
  },
  {
   "cell_type": "code",
   "execution_count": 28,
   "id": "6da4601f",
   "metadata": {},
   "outputs": [
    {
     "name": "stdout",
     "output_type": "stream",
     "text": [
      "1535 and 2.52 %\n"
     ]
    }
   ],
   "source": [
    "f_a.isnull().sum()\n",
    "C=pd.DataFrame(f_a.isnull().sum())\n",
    "D=C.iat[9,0]\n",
    "E=len(f_a)\n",
    "Percentage=(D/E)*100\n",
    "Percentage_format = \"{:.2f}\".format(Percentage)\n",
    "print(D, 'and' , Percentage_format,'%')"
   ]
  },
  {
   "cell_type": "markdown",
   "id": "e3526498",
   "metadata": {},
   "source": [
    "# 17 Which year had the least correlation with ‘Element Code’?"
   ]
  },
  {
   "cell_type": "code",
   "execution_count": 9,
   "id": "069d16ec",
   "metadata": {},
   "outputs": [
    {
     "name": "stdout",
     "output_type": "stream",
     "text": [
      "0.1282844672996681\n",
      "0.1254596929964542\n",
      "0.12381721378789941\n",
      "0.12920400412461072\n",
      "0.12888513118822403\n",
      "Y2016 had the least correlation with Element Code\n"
     ]
    }
   ],
   "source": [
    "f_a.groupby('Element Code').sum()\n",
    "F=pd.DataFrame(f_a.groupby('Element Code').sum())\n",
    "P=F.reset_index()\n",
    "print(P['Element Code'].corr(P['Y2014']))\n",
    "print(P['Element Code'].corr(P['Y2015']))\n",
    "print(P['Element Code'].corr(P['Y2016']))\n",
    "print(P['Element Code'].corr(P['Y2017']))\n",
    "print(P['Element Code'].corr(P['Y2018']))\n",
    "\n",
    "print('Y2016 had the least correlation with Element Code')"
   ]
  },
  {
   "cell_type": "markdown",
   "id": "00d1c6a7",
   "metadata": {},
   "source": [
    "# 17 Perform a groupby operation on ‘Element’.  What year has the highest sum of Stock Variation?"
   ]
  },
  {
   "cell_type": "code",
   "execution_count": 10,
   "id": "76f1686f",
   "metadata": {},
   "outputs": [
    {
     "name": "stdout",
     "output_type": "stream",
     "text": [
      "Area Code                                                  571566\n",
      "Area            AlgeriaAlgeriaAlgeriaAlgeriaAlgeriaAlgeriaAlge...\n",
      "Item Code                                                11329527\n",
      "Item            Cereals - Excluding BeerWheat and productsRice...\n",
      "Element Code                                             21464704\n",
      "Element         Stock VariationStock VariationStock VariationS...\n",
      "Unit            1000 tonnes1000 tonnes1000 tonnes1000 tonnes10...\n",
      "Y2014                                                    58749.83\n",
      "Y2015                                                    34910.99\n",
      "Y2016                                                    33140.12\n",
      "Y2017                                                    54316.91\n",
      "Y2018                                                    20577.91\n",
      "dtype: object\n",
      "The year with the highest sum of stock variation is 2014\n"
     ]
    }
   ],
   "source": [
    "G=pd.DataFrame(f_a)\n",
    "G1=pd.DataFrame(G[G['Element'].eq('Stock Variation')]).sum()\n",
    "print(G1)\n",
    "print('The year with the highest sum of stock variation is 2014')"
   ]
  },
  {
   "cell_type": "markdown",
   "id": "f5e42744",
   "metadata": {},
   "source": [
    "# 12.  Perform a groupby operation on ‘Element’.  What is the total number of the sum of Processing in 2017?"
   ]
  },
  {
   "cell_type": "code",
   "execution_count": 31,
   "id": "4edacb49",
   "metadata": {},
   "outputs": [
    {
     "name": "stdout",
     "output_type": "stream",
     "text": [
      "                                             Y2017\n",
      "Element                                           \n",
      "Domestic supply quantity                2088198.10\n",
      "Export Quantity                          182338.80\n",
      "Fat supply quantity (g/capita/day)        10253.84\n",
      "Feed                                     223705.68\n",
      "Food                                    1258888.28\n",
      "Food supply (kcal/capita/day)            454681.00\n",
      "Food supply quantity (kg/capita/yr)       48690.04\n",
      "Import Quantity                          294559.09\n",
      "Losses                                   160614.00\n",
      "Other uses (non-food)                     91645.97\n",
      "Processing                               292836.00\n",
      "Production                              2030056.89\n",
      "Protein supply quantity (g/capita/day)    11842.45\n",
      "Residuals                                 35500.00\n",
      "Seed                                      24870.14\n",
      "Stock Variation                           54316.91\n",
      "Total Population - Both sexes           1112641.00\n",
      "Tourist consumption                          91.00\n",
      "292836.0\n"
     ]
    }
   ],
   "source": [
    "f_a.groupby('Element')['Y2017'].sum()\n",
    "H=pd.DataFrame(f_a.groupby('Element')['Y2017'].sum())\n",
    "print(H)\n",
    "o=H.at['Processing','Y2017']\n",
    "print(o)"
   ]
  },
  {
   "cell_type": "markdown",
   "id": "b524e80c",
   "metadata": {},
   "source": [
    "# 7. Select columns ‘Y2017’ and ‘Area’, Perform a groupby operation on ‘Area’.  Which of these Areas had the highest sum in 2017?"
   ]
  },
  {
   "cell_type": "code",
   "execution_count": 8,
   "id": "2a9fe3a2",
   "metadata": {},
   "outputs": [
    {
     "name": "stdout",
     "output_type": "stream",
     "text": [
      "                                  Y2017\n",
      "Area                                   \n",
      "Algeria                       325644.27\n",
      "Angola                        229159.57\n",
      "Benin                         124771.22\n",
      "Botswana                       22101.30\n",
      "Burkina Faso                  101855.07\n",
      "Cabo Verde                     14650.74\n",
      "Cameroon                      232030.43\n",
      "Central African Republic       29937.00\n",
      "Chad                           71594.68\n",
      "Comoros                           59.84\n",
      "Congo                          41181.68\n",
      "Côte d'Ivoire                 224599.01\n",
      "Djibouti                       22729.91\n",
      "Egypt                         866379.92\n",
      "Eswatini                       54343.33\n",
      "Ethiopia                      448683.76\n",
      "Ethiopia PDR                       0.00\n",
      "Gabon                          27979.64\n",
      "Gambia                         23154.18\n",
      "Ghana                         337599.06\n",
      "Guinea                         98138.87\n",
      "Guinea-Bissau                  19102.77\n",
      "Kenya                         264660.66\n",
      "Lesotho                        21267.96\n",
      "Liberia                        29342.20\n",
      "Madagascar                    131197.73\n",
      "Malawi                        181098.71\n",
      "Mali                          149928.33\n",
      "Mauritania                    156665.46\n",
      "Mauritius                      51114.83\n",
      "Morocco                       388495.36\n",
      "Mozambique                    161407.98\n",
      "Namibia                        29874.89\n",
      "Niger                         126707.58\n",
      "Nigeria                      1483268.23\n",
      "Rwanda                         73663.69\n",
      "Sao Tome and Principe          12662.63\n",
      "Senegal                        95681.15\n",
      "Seychelles                       442.34\n",
      "Sierra Leone                   55311.33\n",
      "South Africa                  517590.54\n",
      "Sudan                         239931.92\n",
      "Sudan (former)                     0.00\n",
      "Togo                           49841.88\n",
      "Tunisia                       124167.20\n",
      "Uganda                        213950.38\n",
      "United Republic of Tanzania   322616.85\n",
      "Zambia                        103223.77\n",
      "Zimbabwe                       75919.34\n",
      "Nigeria has the highest sum\n"
     ]
    }
   ],
   "source": [
    "f_a.groupby('Area')['Y2017'].sum()\n",
    "I=pd.DataFrame(f_a.groupby('Area')['Y2017'].sum())\n",
    "print(I)\n",
    "\n",
    "print(\"Nigeria has the highest sum\")"
   ]
  },
  {
   "cell_type": "markdown",
   "id": "431ee137",
   "metadata": {},
   "source": [
    "# 13 Select columns ‘Y2017’ and ‘Area’, Perform a groupby operation on ‘Area’.  Which of these Areas had the 7th lowest sum in 2017?"
   ]
  },
  {
   "cell_type": "code",
   "execution_count": 33,
   "id": "a217808b",
   "metadata": {},
   "outputs": [
    {
     "data": {
      "text/plain": [
       "Area\n",
       "Algeria                        43.0\n",
       "Angola                         38.0\n",
       "Benin                          29.0\n",
       "Botswana                        9.0\n",
       "Burkina Faso                   26.0\n",
       "Cabo Verde                      6.0\n",
       "Cameroon                       39.0\n",
       "Central African Republic       15.0\n",
       "Chad                           21.0\n",
       "Comoros                         3.0\n",
       "Congo                          16.0\n",
       "Côte d'Ivoire                  37.0\n",
       "Djibouti                       10.0\n",
       "Egypt                          48.0\n",
       "Eswatini                       19.0\n",
       "Ethiopia                       46.0\n",
       "Ethiopia PDR                    1.5\n",
       "Gabon                          12.0\n",
       "Gambia                         11.0\n",
       "Ghana                          44.0\n",
       "Guinea                         25.0\n",
       "Guinea-Bissau                   7.0\n",
       "Kenya                          41.0\n",
       "Lesotho                         8.0\n",
       "Liberia                        13.0\n",
       "Madagascar                     31.0\n",
       "Malawi                         35.0\n",
       "Mali                           32.0\n",
       "Mauritania                     33.0\n",
       "Mauritius                      18.0\n",
       "Morocco                        45.0\n",
       "Mozambique                     34.0\n",
       "Namibia                        14.0\n",
       "Niger                          30.0\n",
       "Nigeria                        49.0\n",
       "Rwanda                         22.0\n",
       "Sao Tome and Principe           5.0\n",
       "Senegal                        24.0\n",
       "Seychelles                      4.0\n",
       "Sierra Leone                   20.0\n",
       "South Africa                   47.0\n",
       "Sudan                          40.0\n",
       "Sudan (former)                  1.5\n",
       "Togo                           17.0\n",
       "Tunisia                        28.0\n",
       "Uganda                         36.0\n",
       "United Republic of Tanzania    42.0\n",
       "Zambia                         27.0\n",
       "Zimbabwe                       23.0\n",
       "Name: Y2017, dtype: float64"
      ]
     },
     "execution_count": 33,
     "metadata": {},
     "output_type": "execute_result"
    }
   ],
   "source": [
    "f_a.groupby('Area')['Y2017'].sum()\n",
    "J=pd.DataFrame(f_a.groupby('Area')['Y2017'].sum())\n",
    "J\n",
    "J[\"Y2017\"].rank()"
   ]
  },
  {
   "cell_type": "markdown",
   "id": "dfe4ad40",
   "metadata": {},
   "source": [
    "# 4. What is the total Protein supply quantity in Madagascar in 2015?"
   ]
  },
  {
   "cell_type": "code",
   "execution_count": 35,
   "id": "6572465d",
   "metadata": {},
   "outputs": [
    {
     "name": "stdout",
     "output_type": "stream",
     "text": [
      "Area       0.0\n",
      "Element    0.0\n",
      "Y2015      0.0\n",
      "dtype: float64\n"
     ]
    }
   ],
   "source": [
    "k=pd.DataFrame(f_a)\n",
    "K3=pd.DataFrame(k[k['Area'].eq('Madagascar')])\n",
    "K8=pd.DataFrame(K3)\n",
    "\n",
    "K5=K8[['Area','Element','Y2015']]\n",
    "K6=pd.DataFrame(K5)\n",
    "K7=(K6.loc[K6['Element']=='Protein supply']).sum()\n",
    "print(K7)\n",
    "#  Protein supply quantity in Madagascar in 2015"
   ]
  },
  {
   "cell_type": "markdown",
   "id": "33ac056e",
   "metadata": {},
   "source": [
    "# 1. The total number of unique countries in the dataset is"
   ]
  },
  {
   "cell_type": "code",
   "execution_count": 89,
   "id": "0c97b8d0",
   "metadata": {},
   "outputs": [
    {
     "name": "stdout",
     "output_type": "stream",
     "text": [
      "Area Code       49\n",
      "Item Code       49\n",
      "Element Code    49\n",
      "Y2014           48\n",
      "Y2015           48\n",
      "Y2016           48\n",
      "Y2017           48\n",
      "Y2018           48\n",
      "dtype: int64\n",
      "The total number of unique countries in the dataset is 49\n"
     ]
    }
   ],
   "source": [
    "f_a.groupby(['Area']).sum()\n",
    "L=pd.DataFrame(f_a.groupby(['Area']).sum())\n",
    "print(L)\n",
    "print(L.nunique())\n",
    "print('The total number of unique countries in the dataset is 49')"
   ]
  },
  {
   "cell_type": "code",
   "execution_count": null,
   "id": "0174aa91",
   "metadata": {},
   "outputs": [],
   "source": []
  }
 ],
 "metadata": {
  "kernelspec": {
   "display_name": "Python 3 (ipykernel)",
   "language": "python",
   "name": "python3"
  },
  "language_info": {
   "codemirror_mode": {
    "name": "ipython",
    "version": 3
   },
   "file_extension": ".py",
   "mimetype": "text/x-python",
   "name": "python",
   "nbconvert_exporter": "python",
   "pygments_lexer": "ipython3",
   "version": "3.9.12"
  }
 },
 "nbformat": 4,
 "nbformat_minor": 5
}
